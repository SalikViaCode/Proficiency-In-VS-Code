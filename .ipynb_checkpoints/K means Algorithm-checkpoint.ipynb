{
 "cells": [
  {
   "cell_type": "code",
   "execution_count": 1,
   "id": "510e2296-d972-4628-bab3-199df8252863",
   "metadata": {},
   "outputs": [],
   "source": [
    "# Aim: To perform and find the accuracy of K means algorithm"
   ]
  },
  {
   "cell_type": "code",
   "execution_count": 3,
   "id": "2451b1e9-de81-40fa-a6cc-64f1b8724e6a",
   "metadata": {},
   "outputs": [],
   "source": [
    "#Name : Sayyed Salik Sagheer Jawwad\n",
    "#Roll No : 44\n",
    "#Class : 3B"
   ]
  },
  {
   "cell_type": "code",
   "execution_count": null,
   "id": "3e5794f3-2734-42a6-a487-1897b92633c8",
   "metadata": {},
   "outputs": [],
   "source": [
    "import numpy as np # linear algebra\n",
    "import pandas as pd # data processing, CSV file I/O (e.g. pd.read_csv)\n",
    "import matplotlib.pyplot as plt # for data visualization\n",
    "import seaborn as sns # for statistical data visualization\n",
    "%matplotlib inline\n",
    "from sklearn.datasets import make_blobs\n",
    "import warnings\n",
    "warnings.filterwarnings('ignore')\n",
    "import os"
   ]
  }
 ],
 "metadata": {
  "kernelspec": {
   "display_name": "Python 3 (ipykernel)",
   "language": "python",
   "name": "python3"
  },
  "language_info": {
   "codemirror_mode": {
    "name": "ipython",
    "version": 3
   },
   "file_extension": ".py",
   "mimetype": "text/x-python",
   "name": "python",
   "nbconvert_exporter": "python",
   "pygments_lexer": "ipython3",
   "version": "3.12.4"
  }
 },
 "nbformat": 4,
 "nbformat_minor": 5
}
